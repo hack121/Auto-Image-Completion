{
 "cells": [
  {
   "cell_type": "markdown",
   "metadata": {},
   "source": [
    "# GAN"
   ]
  },
  {
   "cell_type": "code",
   "execution_count": 1,
   "metadata": {
    "collapsed": true
   },
   "outputs": [],
   "source": [
    "import tensorflow as tf\n",
    "import numpy as np\n",
    "import matplotlib.pyplot as plt\n",
    "%matplotlib inline"
   ]
  },
  {
   "cell_type": "markdown",
   "metadata": {},
   "source": [
    "## The Data"
   ]
  },
  {
   "cell_type": "code",
   "execution_count": 2,
   "metadata": {},
   "outputs": [
    {
     "name": "stdout",
     "output_type": "stream",
     "text": [
      "Extracting MNIST_data/train-images-idx3-ubyte.gz\n",
      "Extracting MNIST_data/train-labels-idx1-ubyte.gz\n",
      "Extracting MNIST_data/t10k-images-idx3-ubyte.gz\n",
      "Extracting MNIST_data/t10k-labels-idx1-ubyte.gz\n"
     ]
    }
   ],
   "source": [
    "from tensorflow.examples.tutorials.mnist import input_data\n",
    "mnist = input_data.read_data_sets(\"MNIST_data/\",one_hot=True)"
   ]
  },
  {
   "cell_type": "code",
   "execution_count": 3,
   "metadata": {},
   "outputs": [
    {
     "data": {
      "text/plain": [
       "<matplotlib.image.AxesImage at 0x7f51ea967710>"
      ]
     },
     "execution_count": 3,
     "metadata": {},
     "output_type": "execute_result"
    },
    {
     "data": {
      "image/png": "[encoded data removed]",
      "text/plain": [
       "<matplotlib.figure.Figure at 0x7f51f43e59b0>"
      ]
     },
     "metadata": {},
     "output_type": "display_data"
    }
   ],
   "source": [
    "plt.imshow(mnist.train.images[14].reshape(28,28),cmap='Greys')"
   ]
  },
  {
   "cell_type": "markdown",
   "metadata": {},
   "source": [
    "## The Generator"
   ]
  },
  {
   "cell_type": "code",
   "execution_count": 4,
   "metadata": {
    "collapsed": true
   },
   "outputs": [],
   "source": [
    "def generator(z,reuse=None):\n",
    "    with tf.variable_scope('gen',reuse=reuse):\n",
    "        hidden1 = tf.layers.dense(inputs=z,units=128)\n",
    "        # Leaky Relu\n",
    "        alpha = 0.01\n",
    "        hidden1 = tf.maximum(alpha*hidden1,hidden1)\n",
    "        hidden2 = tf.layers.dense(inputs=hidden1,units=128)\n",
    "        \n",
    "        hidden2 = tf.maximum(alpha*hidden2,hidden2)\n",
    "        output = tf.layers.dense(hidden2,units=784,activation=tf.nn.tanh)\n",
    "        return output\n",
    "    "
   ]
  },
  {
   "cell_type": "markdown",
   "metadata": {},
   "source": [
    "## The Discriminator"
   ]
  },
  {
   "cell_type": "code",
   "execution_count": 5,
   "metadata": {
    "collapsed": true
   },
   "outputs": [],
   "source": [
    "def discriminator(X,reuse=None):\n",
    "    with tf.variable_scope('dis',reuse=reuse):\n",
    "        hidden1 = tf.layers.dense(inputs=X,units=128)\n",
    "        # Leaky Relu\n",
    "        alpha = 0.01\n",
    "        hidden1 = tf.maximum(alpha*hidden1,hidden1)\n",
    "        \n",
    "        hidden2 = tf.layers.dense(inputs=hidden1,units=128)\n",
    "        hidden2 = tf.maximum(alpha*hidden2,hidden2)\n",
    "        \n",
    "        logits = tf.layers.dense(hidden2,units=1)\n",
    "        output = tf.sigmoid(logits)\n",
    "    \n",
    "        return output, logits"
   ]
  },
  {
   "cell_type": "markdown",
   "metadata": {},
   "source": [
    "### Placeholders"
   ]
  },
  {
   "cell_type": "code",
   "execution_count": 6,
   "metadata": {
    "collapsed": true
   },
   "outputs": [],
   "source": [
    "real_images = tf.placeholder(tf.float32,shape=[None,784])\n",
    "z = tf.placeholder(tf.float32,shape=[None,100])"
   ]
  },
  {
   "cell_type": "markdown",
   "metadata": {},
   "source": [
    "### Generator"
   ]
  },
  {
   "cell_type": "code",
   "execution_count": 7,
   "metadata": {
    "collapsed": true
   },
   "outputs": [],
   "source": [
    "G = generator(z)"
   ]
  },
  {
   "cell_type": "markdown",
   "metadata": {},
   "source": [
    "### Discriminator "
   ]
  },
  {
   "cell_type": "code",
   "execution_count": 8,
   "metadata": {
    "collapsed": true
   },
   "outputs": [],
   "source": [
    "D_output_real , D_logits_real = discriminator(real_images)"
   ]
  },
  {
   "cell_type": "code",
   "execution_count": 9,
   "metadata": {
    "collapsed": true
   },
   "outputs": [],
   "source": [
    "D_output_fake, D_logits_fake = discriminator(G,reuse=True)"
   ]
  },
  {
   "cell_type": "markdown",
   "metadata": {},
   "source": [
    "### Losses"
   ]
  },
  {
   "cell_type": "code",
   "execution_count": 10,
   "metadata": {
    "collapsed": true
   },
   "outputs": [],
   "source": [
    "def loss_func(logits_in,labels_in):\n",
    "    return tf.reduce_mean(tf.nn.sigmoid_cross_entropy_with_logits(logits=logits_in,labels=labels_in))"
   ]
  },
  {
   "cell_type": "code",
   "execution_count": 11,
   "metadata": {
    "collapsed": true
   },
   "outputs": [],
   "source": [
    "D_real_loss = loss_func(D_logits_real,tf.ones_like(D_logits_real)* (0.9))"
   ]
  },
  {
   "cell_type": "code",
   "execution_count": 12,
   "metadata": {
    "collapsed": true
   },
   "outputs": [],
   "source": [
    "D_fake_loss = loss_func(D_logits_fake,tf.zeros_like(D_logits_real))"
   ]
  },
  {
   "cell_type": "code",
   "execution_count": 13,
   "metadata": {
    "collapsed": true
   },
   "outputs": [],
   "source": [
    "D_loss = D_real_loss + D_fake_loss"
   ]
  },
  {
   "cell_type": "code",
   "execution_count": 14,
   "metadata": {
    "collapsed": true
   },
   "outputs": [],
   "source": [
    "G_loss = loss_func(D_logits_fake,tf.ones_like(D_logits_fake))"
   ]
  },
  {
   "cell_type": "markdown",
   "metadata": {},
   "source": [
    "### Optimizers"
   ]
  },
  {
   "cell_type": "code",
   "execution_count": 15,
   "metadata": {
    "collapsed": true
   },
   "outputs": [],
   "source": [
    "learning_rate = 0.001"
   ]
  },
  {
   "cell_type": "code",
   "execution_count": 16,
   "metadata": {},
   "outputs": [
    {
     "name": "stdout",
     "output_type": "stream",
     "text": [
      "['dis/dense/kernel:0', 'dis/dense/bias:0', 'dis/dense_1/kernel:0', 'dis/dense_1/bias:0', 'dis/dense_2/kernel:0', 'dis/dense_2/bias:0']\n",
      "['gen/dense/kernel:0', 'gen/dense/bias:0', 'gen/dense_1/kernel:0', 'gen/dense_1/bias:0', 'gen/dense_2/kernel:0', 'gen/dense_2/bias:0']\n"
     ]
    }
   ],
   "source": [
    "tvars = tf.trainable_variables()\n",
    "\n",
    "d_vars = [var for var in tvars if 'dis' in var.name]\n",
    "g_vars = [var for var in tvars if 'gen' in var.name]\n",
    "\n",
    "print([v.name for v in d_vars])\n",
    "print([v.name for v in g_vars])"
   ]
  },
  {
   "cell_type": "code",
   "execution_count": 17,
   "metadata": {
    "collapsed": true
   },
   "outputs": [],
   "source": [
    "D_trainer = tf.train.AdamOptimizer(learning_rate).minimize(D_loss, var_list=d_vars)\n",
    "G_trainer = tf.train.AdamOptimizer(learning_rate).minimize(G_loss, var_list=g_vars)"
   ]
  },
  {
   "cell_type": "markdown",
   "metadata": {},
   "source": [
    "## Completion code here"
   ]
  },
  {
   "cell_type": "code",
   "execution_count": 18,
   "metadata": {
    "collapsed": true
   },
   "outputs": [],
   "source": [
    "img = tf.placeholder(tf.float32, shape=(1, 784))"
   ]
  },
  {
   "cell_type": "code",
   "execution_count": 19,
   "metadata": {},
   "outputs": [],
   "source": [
    "mask = np.ones(shape=[28,28], dtype=np.float32)\n",
    "mask[10:18,10:18] = 0\n",
    "mask = mask.reshape(1,784)"
   ]
  },
  {
   "cell_type": "code",
   "execution_count": 20,
   "metadata": {},
   "outputs": [],
   "source": [
    "img_to_correct = tf.multiply(tf.reshape(img, shape=(28,28)), tf.convert_to_tensor(tf.reshape(mask, shape=(28,28))))"
   ]
  },
  {
   "cell_type": "code",
   "execution_count": 21,
   "metadata": {
    "collapsed": true
   },
   "outputs": [],
   "source": [
    "z1 = tf.Variable(initial_value = np.random.uniform(-1, 1, size=(1, 100)).astype(\"float32\"), dtype=tf.float32)"
   ]
  },
  {
   "cell_type": "code",
   "execution_count": 22,
   "metadata": {},
   "outputs": [],
   "source": [
    "G1 = generator(z1, reuse = True)"
   ]
  },
  {
   "cell_type": "code",
   "execution_count": 23,
   "metadata": {},
   "outputs": [],
   "source": [
    "img_gen_masked = tf.matmul(G1, mask, transpose_b=True)"
   ]
  },
  {
   "cell_type": "code",
   "execution_count": 24,
   "metadata": {
    "collapsed": true
   },
   "outputs": [],
   "source": [
    "contextual_loss = tf.reduce_mean(tf.abs(img_gen_masked - img_to_correct))"
   ]
  },
  {
   "cell_type": "code",
   "execution_count": 25,
   "metadata": {
    "collapsed": true
   },
   "outputs": [],
   "source": [
    "perceptual_loss = G_loss"
   ]
  },
  {
   "cell_type": "code",
   "execution_count": 26,
   "metadata": {
    "collapsed": true
   },
   "outputs": [],
   "source": [
    "complete_loss = contextual_loss + perceptual_loss"
   ]
  },
  {
   "cell_type": "code",
   "execution_count": 27,
   "metadata": {
    "collapsed": true
   },
   "outputs": [],
   "source": [
    "complete_loss_trainer = tf.train.AdamOptimizer(learning_rate).minimize(complete_loss, var_list=z1)"
   ]
  },
  {
   "cell_type": "markdown",
   "metadata": {},
   "source": [
    "## Training Session"
   ]
  },
  {
   "cell_type": "code",
   "execution_count": 47,
   "metadata": {
    "collapsed": true
   },
   "outputs": [],
   "source": [
    "batch_size = 100\n",
    "epochs = 500\n",
    "init = tf.global_variables_initializer()\n",
    "saver = tf.train.Saver()"
   ]
  },
  {
   "cell_type": "code",
   "execution_count": 48,
   "metadata": {
    "collapsed": true
   },
   "outputs": [],
   "source": [
    "# Save a sample per epoch\n",
    "samples = []\n",
    "ans_z = []"
   ]
  },
  {
   "cell_type": "code",
   "execution_count": 49,
   "metadata": {},
   "outputs": [
    {
     "name": "stdout",
     "output_type": "stream",
     "text": [
      "Currently on Epoch 1 of 500 total...\n",
      "Currently on Epoch 2 of 500 total...\n",
      "Currently on Epoch 3 of 500 total...\n",
      "Currently on Epoch 4 of 500 total...\n",
      "Currently on Epoch 5 of 500 total...\n",
      "Currently on Epoch 6 of 500 total...\n",
      "Currently on Epoch 7 of 500 total...\n",
      "Currently on Epoch 8 of 500 total...\n",
      "Currently on Epoch 9 of 500 total...\n",
      "Currently on Epoch 10 of 500 total...\n",
      "Currently on Epoch 11 of 500 total...\n",
      "Currently on Epoch 12 of 500 total...\n",
      "Currently on Epoch 13 of 500 total...\n",
      "Currently on Epoch 14 of 500 total...\n",
      "Currently on Epoch 15 of 500 total...\n",
      "Currently on Epoch 16 of 500 total...\n",
      "Currently on Epoch 17 of 500 total...\n",
      "Currently on Epoch 18 of 500 total...\n",
      "Currently on Epoch 19 of 500 total...\n",
      "Currently on Epoch 20 of 500 total...\n",
      "Currently on Epoch 21 of 500 total...\n",
      "Currently on Epoch 22 of 500 total...\n",
      "Currently on Epoch 23 of 500 total...\n",
      "Currently on Epoch 24 of 500 total...\n",
      "Currently on Epoch 25 of 500 total...\n",
      "Currently on Epoch 26 of 500 total...\n",
      "Currently on Epoch 27 of 500 total...\n",
      "Currently on Epoch 28 of 500 total...\n",
      "Currently on Epoch 29 of 500 total...\n",
      "Currently on Epoch 30 of 500 total...\n",
      "Currently on Epoch 31 of 500 total...\n",
      "Currently on Epoch 32 of 500 total...\n",
      "Currently on Epoch 33 of 500 total...\n",
      "Currently on Epoch 34 of 500 total...\n",
      "Currently on Epoch 35 of 500 total...\n",
      "Currently on Epoch 36 of 500 total...\n",
      "Currently on Epoch 37 of 500 total...\n",
      "Currently on Epoch 38 of 500 total...\n",
      "Currently on Epoch 39 of 500 total...\n",
      "Currently on Epoch 40 of 500 total...\n",
      "Currently on Epoch 41 of 500 total...\n",
      "Currently on Epoch 42 of 500 total...\n",
      "Currently on Epoch 43 of 500 total...\n",
      "Currently on Epoch 44 of 500 total...\n",
      "Currently on Epoch 45 of 500 total...\n",
      "Currently on Epoch 46 of 500 total...\n",
      "Currently on Epoch 47 of 500 total...\n",
      "Currently on Epoch 48 of 500 total...\n",
      "Currently on Epoch 49 of 500 total...\n",
      "Currently on Epoch 50 of 500 total...\n",
      "Currently on Epoch 51 of 500 total...\n",
      "Currently on Epoch 52 of 500 total...\n",
      "Currently on Epoch 53 of 500 total...\n",
      "Currently on Epoch 54 of 500 total...\n",
      "Currently on Epoch 55 of 500 total...\n",
      "Currently on Epoch 56 of 500 total...\n",
      "Currently on Epoch 57 of 500 total...\n",
      "Currently on Epoch 58 of 500 total...\n",
      "Currently on Epoch 59 of 500 total...\n",
      "Currently on Epoch 60 of 500 total...\n",
      "Currently on Epoch 61 of 500 total...\n",
      "Currently on Epoch 62 of 500 total...\n",
      "Currently on Epoch 63 of 500 total...\n",
      "Currently on Epoch 64 of 500 total...\n",
      "Currently on Epoch 65 of 500 total...\n",
      "Currently on Epoch 66 of 500 total...\n",
      "Currently on Epoch 67 of 500 total...\n",
      "Currently on Epoch 68 of 500 total...\n",
      "Currently on Epoch 69 of 500 total...\n",
      "Currently on Epoch 70 of 500 total...\n",
      "Currently on Epoch 71 of 500 total...\n",
      "Currently on Epoch 72 of 500 total...\n",
      "Currently on Epoch 73 of 500 total...\n",
      "Currently on Epoch 74 of 500 total...\n",
      "Currently on Epoch 75 of 500 total...\n",
      "Currently on Epoch 76 of 500 total...\n",
      "Currently on Epoch 77 of 500 total...\n",
      "Currently on Epoch 78 of 500 total...\n",
      "Currently on Epoch 79 of 500 total...\n",
      "Currently on Epoch 80 of 500 total...\n",
      "Currently on Epoch 81 of 500 total...\n",
      "Currently on Epoch 82 of 500 total...\n",
      "Currently on Epoch 83 of 500 total...\n",
      "Currently on Epoch 84 of 500 total...\n",
      "Currently on Epoch 85 of 500 total...\n",
      "Currently on Epoch 86 of 500 total...\n",
      "Currently on Epoch 87 of 500 total...\n",
      "Currently on Epoch 88 of 500 total...\n",
      "Currently on Epoch 89 of 500 total...\n",
      "Currently on Epoch 90 of 500 total...\n",
      "Currently on Epoch 91 of 500 total...\n",
      "Currently on Epoch 92 of 500 total...\n",
      "Currently on Epoch 93 of 500 total...\n",
      "Currently on Epoch 94 of 500 total...\n",
      "Currently on Epoch 95 of 500 total...\n",
      "Currently on Epoch 96 of 500 total...\n",
      "Currently on Epoch 97 of 500 total...\n",
      "Currently on Epoch 98 of 500 total...\n",
      "Currently on Epoch 99 of 500 total...\n",
      "Currently on Epoch 100 of 500 total...\n",
      "Currently on Epoch 101 of 500 total...\n",
      "Currently on Epoch 102 of 500 total...\n",
      "Currently on Epoch 103 of 500 total...\n",
      "Currently on Epoch 104 of 500 total...\n",
      "Currently on Epoch 105 of 500 total...\n",
      "Currently on Epoch 106 of 500 total...\n",
      "Currently on Epoch 107 of 500 total...\n",
      "Currently on Epoch 108 of 500 total...\n",
      "Currently on Epoch 109 of 500 total...\n",
      "Currently on Epoch 110 of 500 total...\n",
      "Currently on Epoch 111 of 500 total...\n",
      "Currently on Epoch 112 of 500 total...\n",
      "Currently on Epoch 113 of 500 total...\n",
      "Currently on Epoch 114 of 500 total...\n",
      "Currently on Epoch 115 of 500 total...\n",
      "Currently on Epoch 116 of 500 total...\n",
      "Currently on Epoch 117 of 500 total...\n",
      "Currently on Epoch 118 of 500 total...\n",
      "Currently on Epoch 119 of 500 total...\n",
      "Currently on Epoch 120 of 500 total...\n",
      "Currently on Epoch 121 of 500 total...\n",
      "Currently on Epoch 122 of 500 total...\n",
      "Currently on Epoch 123 of 500 total...\n",
      "Currently on Epoch 124 of 500 total...\n",
      "Currently on Epoch 125 of 500 total...\n",
      "Currently on Epoch 126 of 500 total...\n",
      "Currently on Epoch 127 of 500 total...\n",
      "Currently on Epoch 128 of 500 total...\n",
      "Currently on Epoch 129 of 500 total...\n",
      "Currently on Epoch 130 of 500 total...\n",
      "Currently on Epoch 131 of 500 total...\n",
      "Currently on Epoch 132 of 500 total...\n",
      "Currently on Epoch 133 of 500 total...\n",
      "Currently on Epoch 134 of 500 total...\n",
      "Currently on Epoch 135 of 500 total...\n",
      "Currently on Epoch 136 of 500 total...\n",
      "Currently on Epoch 137 of 500 total...\n",
      "Currently on Epoch 138 of 500 total...\n",
      "Currently on Epoch 139 of 500 total...\n",
      "Currently on Epoch 140 of 500 total...\n",
      "Currently on Epoch 141 of 500 total...\n",
      "Currently on Epoch 142 of 500 total...\n",
      "Currently on Epoch 143 of 500 total...\n",
      "Currently on Epoch 144 of 500 total...\n",
      "Currently on Epoch 145 of 500 total...\n",
      "Currently on Epoch 146 of 500 total...\n",
      "Currently on Epoch 147 of 500 total...\n",
      "Currently on Epoch 148 of 500 total...\n",
      "Currently on Epoch 149 of 500 total...\n",
      "Currently on Epoch 150 of 500 total...\n",
      "Currently on Epoch 151 of 500 total...\n",
      "Currently on Epoch 152 of 500 total...\n",
      "Currently on Epoch 153 of 500 total...\n",
      "Currently on Epoch 154 of 500 total...\n",
      "Currently on Epoch 155 of 500 total...\n",
      "Currently on Epoch 156 of 500 total...\n",
      "Currently on Epoch 157 of 500 total...\n",
      "Currently on Epoch 158 of 500 total...\n",
      "Currently on Epoch 159 of 500 total...\n",
      "Currently on Epoch 160 of 500 total...\n",
      "Currently on Epoch 161 of 500 total...\n",
      "Currently on Epoch 162 of 500 total...\n",
      "Currently on Epoch 163 of 500 total...\n",
      "Currently on Epoch 164 of 500 total...\n",
      "Currently on Epoch 165 of 500 total...\n",
      "Currently on Epoch 166 of 500 total...\n",
      "Currently on Epoch 167 of 500 total...\n",
      "Currently on Epoch 168 of 500 total...\n",
      "Currently on Epoch 169 of 500 total...\n",
      "Currently on Epoch 170 of 500 total...\n",
      "Currently on Epoch 171 of 500 total...\n",
      "Currently on Epoch 172 of 500 total...\n",
      "Currently on Epoch 173 of 500 total...\n",
      "Currently on Epoch 174 of 500 total...\n",
      "Currently on Epoch 175 of 500 total...\n",
      "Currently on Epoch 176 of 500 total...\n",
      "Currently on Epoch 177 of 500 total...\n",
      "Currently on Epoch 178 of 500 total...\n",
      "Currently on Epoch 179 of 500 total...\n",
      "Currently on Epoch 180 of 500 total...\n",
      "Currently on Epoch 181 of 500 total...\n",
      "Currently on Epoch 182 of 500 total...\n",
      "Currently on Epoch 183 of 500 total...\n",
      "Currently on Epoch 184 of 500 total...\n",
      "Currently on Epoch 185 of 500 total...\n",
      "Currently on Epoch 186 of 500 total...\n",
      "Currently on Epoch 187 of 500 total...\n",
      "Currently on Epoch 188 of 500 total...\n",
      "Currently on Epoch 189 of 500 total...\n",
      "Currently on Epoch 190 of 500 total...\n",
      "Currently on Epoch 191 of 500 total...\n",
      "Currently on Epoch 192 of 500 total...\n",
      "Currently on Epoch 193 of 500 total...\n",
      "Currently on Epoch 194 of 500 total...\n",
      "Currently on Epoch 195 of 500 total...\n",
      "Currently on Epoch 196 of 500 total...\n",
      "Currently on Epoch 197 of 500 total...\n",
      "Currently on Epoch 198 of 500 total...\n",
      "Currently on Epoch 199 of 500 total...\n",
      "Currently on Epoch 200 of 500 total...\n",
      "Currently on Epoch 201 of 500 total...\n",
      "Currently on Epoch 202 of 500 total...\n",
      "Currently on Epoch 203 of 500 total...\n",
      "Currently on Epoch 204 of 500 total...\n",
      "Currently on Epoch 205 of 500 total...\n",
      "Currently on Epoch 206 of 500 total...\n",
      "Currently on Epoch 207 of 500 total...\n",
      "Currently on Epoch 208 of 500 total...\n",
      "Currently on Epoch 209 of 500 total...\n",
      "Currently on Epoch 210 of 500 total...\n",
      "Currently on Epoch 211 of 500 total...\n",
      "Currently on Epoch 212 of 500 total...\n",
      "Currently on Epoch 213 of 500 total...\n"
     ]
    },
    {
     "name": "stdout",
     "output_type": "stream",
     "text": [
      "Currently on Epoch 214 of 500 total...\n",
      "Currently on Epoch 215 of 500 total...\n",
      "Currently on Epoch 216 of 500 total...\n",
      "Currently on Epoch 217 of 500 total...\n",
      "Currently on Epoch 218 of 500 total...\n",
      "Currently on Epoch 219 of 500 total...\n",
      "Currently on Epoch 220 of 500 total...\n",
      "Currently on Epoch 221 of 500 total...\n",
      "Currently on Epoch 222 of 500 total...\n",
      "Currently on Epoch 223 of 500 total...\n",
      "Currently on Epoch 224 of 500 total...\n",
      "Currently on Epoch 225 of 500 total...\n",
      "Currently on Epoch 226 of 500 total...\n",
      "Currently on Epoch 227 of 500 total...\n",
      "Currently on Epoch 228 of 500 total...\n",
      "Currently on Epoch 229 of 500 total...\n",
      "Currently on Epoch 230 of 500 total...\n",
      "Currently on Epoch 231 of 500 total...\n",
      "Currently on Epoch 232 of 500 total...\n",
      "Currently on Epoch 233 of 500 total...\n",
      "Currently on Epoch 234 of 500 total...\n",
      "Currently on Epoch 235 of 500 total...\n",
      "Currently on Epoch 236 of 500 total...\n",
      "Currently on Epoch 237 of 500 total...\n",
      "Currently on Epoch 238 of 500 total...\n",
      "Currently on Epoch 239 of 500 total...\n",
      "Currently on Epoch 240 of 500 total...\n",
      "Currently on Epoch 241 of 500 total...\n",
      "Currently on Epoch 242 of 500 total...\n",
      "Currently on Epoch 243 of 500 total...\n",
      "Currently on Epoch 244 of 500 total...\n",
      "Currently on Epoch 245 of 500 total...\n",
      "Currently on Epoch 246 of 500 total...\n",
      "Currently on Epoch 247 of 500 total...\n",
      "Currently on Epoch 248 of 500 total...\n",
      "Currently on Epoch 249 of 500 total...\n",
      "Currently on Epoch 250 of 500 total...\n",
      "Currently on Epoch 251 of 500 total...\n",
      "Currently on Epoch 252 of 500 total...\n",
      "Currently on Epoch 253 of 500 total...\n",
      "Currently on Epoch 254 of 500 total...\n",
      "Currently on Epoch 255 of 500 total...\n",
      "Currently on Epoch 256 of 500 total...\n",
      "Currently on Epoch 257 of 500 total...\n",
      "Currently on Epoch 258 of 500 total...\n",
      "Currently on Epoch 259 of 500 total...\n",
      "Currently on Epoch 260 of 500 total...\n",
      "Currently on Epoch 261 of 500 total...\n",
      "Currently on Epoch 262 of 500 total...\n",
      "Currently on Epoch 263 of 500 total...\n",
      "Currently on Epoch 264 of 500 total...\n",
      "Currently on Epoch 265 of 500 total...\n",
      "Currently on Epoch 266 of 500 total...\n",
      "Currently on Epoch 267 of 500 total...\n",
      "Currently on Epoch 268 of 500 total...\n",
      "Currently on Epoch 269 of 500 total...\n",
      "Currently on Epoch 270 of 500 total...\n",
      "Currently on Epoch 271 of 500 total...\n",
      "Currently on Epoch 272 of 500 total...\n",
      "Currently on Epoch 273 of 500 total...\n",
      "Currently on Epoch 274 of 500 total...\n",
      "Currently on Epoch 275 of 500 total...\n",
      "Currently on Epoch 276 of 500 total...\n",
      "Currently on Epoch 277 of 500 total...\n",
      "Currently on Epoch 278 of 500 total...\n",
      "Currently on Epoch 279 of 500 total...\n",
      "Currently on Epoch 280 of 500 total...\n",
      "Currently on Epoch 281 of 500 total...\n",
      "Currently on Epoch 282 of 500 total...\n",
      "Currently on Epoch 283 of 500 total...\n",
      "Currently on Epoch 284 of 500 total...\n",
      "Currently on Epoch 285 of 500 total...\n"
     ]
    },
    {
     "ename": "KeyboardInterrupt",
     "evalue": "",
     "output_type": "error",
     "traceback": [
      "\u001b[0;31m---------------------------------------------------------------------------\u001b[0m",
      "\u001b[0;31mKeyboardInterrupt\u001b[0m                         Traceback (most recent call last)",
      "\u001b[0;32m<ipython-input-49-33caa5669b5b>\u001b[0m in \u001b[0;36m<module>\u001b[0;34m()\u001b[0m\n\u001b[1;32m     22\u001b[0m \u001b[0;34m\u001b[0m\u001b[0m\n\u001b[1;32m     23\u001b[0m             \u001b[0;31m# Run optimizers, no need to save outputs, we won't use them\u001b[0m\u001b[0;34m\u001b[0m\u001b[0;34m\u001b[0m\u001b[0m\n\u001b[0;32m---> 24\u001b[0;31m             \u001b[0m_\u001b[0m \u001b[0;34m=\u001b[0m \u001b[0msess\u001b[0m\u001b[0;34m.\u001b[0m\u001b[0mrun\u001b[0m\u001b[0;34m(\u001b[0m\u001b[0mD_trainer\u001b[0m\u001b[0;34m,\u001b[0m \u001b[0mfeed_dict\u001b[0m\u001b[0;34m=\u001b[0m\u001b[0;34m{\u001b[0m\u001b[0mreal_images\u001b[0m\u001b[0;34m:\u001b[0m \u001b[0mbatch_images\u001b[0m\u001b[0;34m,\u001b[0m \u001b[0mz\u001b[0m\u001b[0;34m:\u001b[0m \u001b[0mbatch_z\u001b[0m\u001b[0;34m}\u001b[0m\u001b[0;34m)\u001b[0m\u001b[0;34m\u001b[0m\u001b[0m\n\u001b[0m\u001b[1;32m     25\u001b[0m             \u001b[0m_\u001b[0m \u001b[0;34m=\u001b[0m \u001b[0msess\u001b[0m\u001b[0;34m.\u001b[0m\u001b[0mrun\u001b[0m\u001b[0;34m(\u001b[0m\u001b[0mG_trainer\u001b[0m\u001b[0;34m,\u001b[0m \u001b[0mfeed_dict\u001b[0m\u001b[0;34m=\u001b[0m\u001b[0;34m{\u001b[0m\u001b[0mz\u001b[0m\u001b[0;34m:\u001b[0m \u001b[0mbatch_z\u001b[0m\u001b[0;34m}\u001b[0m\u001b[0;34m)\u001b[0m\u001b[0;34m\u001b[0m\u001b[0m\n\u001b[1;32m     26\u001b[0m \u001b[0;34m\u001b[0m\u001b[0m\n",
      "\u001b[0;32m~/anaconda2/envs/tfdeeplearning/lib/python3.5/site-packages/tensorflow/python/client/session.py\u001b[0m in \u001b[0;36mrun\u001b[0;34m(self, fetches, feed_dict, options, run_metadata)\u001b[0m\n\u001b[1;32m    893\u001b[0m     \u001b[0;32mtry\u001b[0m\u001b[0;34m:\u001b[0m\u001b[0;34m\u001b[0m\u001b[0m\n\u001b[1;32m    894\u001b[0m       result = self._run(None, fetches, feed_dict, options_ptr,\n\u001b[0;32m--> 895\u001b[0;31m                          run_metadata_ptr)\n\u001b[0m\u001b[1;32m    896\u001b[0m       \u001b[0;32mif\u001b[0m \u001b[0mrun_metadata\u001b[0m\u001b[0;34m:\u001b[0m\u001b[0;34m\u001b[0m\u001b[0m\n\u001b[1;32m    897\u001b[0m         \u001b[0mproto_data\u001b[0m \u001b[0;34m=\u001b[0m \u001b[0mtf_session\u001b[0m\u001b[0;34m.\u001b[0m\u001b[0mTF_GetBuffer\u001b[0m\u001b[0;34m(\u001b[0m\u001b[0mrun_metadata_ptr\u001b[0m\u001b[0;34m)\u001b[0m\u001b[0;34m\u001b[0m\u001b[0m\n",
      "\u001b[0;32m~/anaconda2/envs/tfdeeplearning/lib/python3.5/site-packages/tensorflow/python/client/session.py\u001b[0m in \u001b[0;36m_run\u001b[0;34m(self, handle, fetches, feed_dict, options, run_metadata)\u001b[0m\n\u001b[1;32m   1122\u001b[0m     \u001b[0;32mif\u001b[0m \u001b[0mfinal_fetches\u001b[0m \u001b[0;32mor\u001b[0m \u001b[0mfinal_targets\u001b[0m \u001b[0;32mor\u001b[0m \u001b[0;34m(\u001b[0m\u001b[0mhandle\u001b[0m \u001b[0;32mand\u001b[0m \u001b[0mfeed_dict_tensor\u001b[0m\u001b[0;34m)\u001b[0m\u001b[0;34m:\u001b[0m\u001b[0;34m\u001b[0m\u001b[0m\n\u001b[1;32m   1123\u001b[0m       results = self._do_run(handle, final_targets, final_fetches,\n\u001b[0;32m-> 1124\u001b[0;31m                              feed_dict_tensor, options, run_metadata)\n\u001b[0m\u001b[1;32m   1125\u001b[0m     \u001b[0;32melse\u001b[0m\u001b[0;34m:\u001b[0m\u001b[0;34m\u001b[0m\u001b[0m\n\u001b[1;32m   1126\u001b[0m       \u001b[0mresults\u001b[0m \u001b[0;34m=\u001b[0m \u001b[0;34m[\u001b[0m\u001b[0;34m]\u001b[0m\u001b[0;34m\u001b[0m\u001b[0m\n",
      "\u001b[0;32m~/anaconda2/envs/tfdeeplearning/lib/python3.5/site-packages/tensorflow/python/client/session.py\u001b[0m in \u001b[0;36m_do_run\u001b[0;34m(self, handle, target_list, fetch_list, feed_dict, options, run_metadata)\u001b[0m\n\u001b[1;32m   1319\u001b[0m     \u001b[0;32mif\u001b[0m \u001b[0mhandle\u001b[0m \u001b[0;32mis\u001b[0m \u001b[0;32mNone\u001b[0m\u001b[0;34m:\u001b[0m\u001b[0;34m\u001b[0m\u001b[0m\n\u001b[1;32m   1320\u001b[0m       return self._do_call(_run_fn, self._session, feeds, fetches, targets,\n\u001b[0;32m-> 1321\u001b[0;31m                            options, run_metadata)\n\u001b[0m\u001b[1;32m   1322\u001b[0m     \u001b[0;32melse\u001b[0m\u001b[0;34m:\u001b[0m\u001b[0;34m\u001b[0m\u001b[0m\n\u001b[1;32m   1323\u001b[0m       \u001b[0;32mreturn\u001b[0m \u001b[0mself\u001b[0m\u001b[0;34m.\u001b[0m\u001b[0m_do_call\u001b[0m\u001b[0;34m(\u001b[0m\u001b[0m_prun_fn\u001b[0m\u001b[0;34m,\u001b[0m \u001b[0mself\u001b[0m\u001b[0;34m.\u001b[0m\u001b[0m_session\u001b[0m\u001b[0;34m,\u001b[0m \u001b[0mhandle\u001b[0m\u001b[0;34m,\u001b[0m \u001b[0mfeeds\u001b[0m\u001b[0;34m,\u001b[0m \u001b[0mfetches\u001b[0m\u001b[0;34m)\u001b[0m\u001b[0;34m\u001b[0m\u001b[0m\n",
      "\u001b[0;32m~/anaconda2/envs/tfdeeplearning/lib/python3.5/site-packages/tensorflow/python/client/session.py\u001b[0m in \u001b[0;36m_do_call\u001b[0;34m(self, fn, *args)\u001b[0m\n\u001b[1;32m   1325\u001b[0m   \u001b[0;32mdef\u001b[0m \u001b[0m_do_call\u001b[0m\u001b[0;34m(\u001b[0m\u001b[0mself\u001b[0m\u001b[0;34m,\u001b[0m \u001b[0mfn\u001b[0m\u001b[0;34m,\u001b[0m \u001b[0;34m*\u001b[0m\u001b[0margs\u001b[0m\u001b[0;34m)\u001b[0m\u001b[0;34m:\u001b[0m\u001b[0;34m\u001b[0m\u001b[0m\n\u001b[1;32m   1326\u001b[0m     \u001b[0;32mtry\u001b[0m\u001b[0;34m:\u001b[0m\u001b[0;34m\u001b[0m\u001b[0m\n\u001b[0;32m-> 1327\u001b[0;31m       \u001b[0;32mreturn\u001b[0m \u001b[0mfn\u001b[0m\u001b[0;34m(\u001b[0m\u001b[0;34m*\u001b[0m\u001b[0margs\u001b[0m\u001b[0;34m)\u001b[0m\u001b[0;34m\u001b[0m\u001b[0m\n\u001b[0m\u001b[1;32m   1328\u001b[0m     \u001b[0;32mexcept\u001b[0m \u001b[0merrors\u001b[0m\u001b[0;34m.\u001b[0m\u001b[0mOpError\u001b[0m \u001b[0;32mas\u001b[0m \u001b[0me\u001b[0m\u001b[0;34m:\u001b[0m\u001b[0;34m\u001b[0m\u001b[0m\n\u001b[1;32m   1329\u001b[0m       \u001b[0mmessage\u001b[0m \u001b[0;34m=\u001b[0m \u001b[0mcompat\u001b[0m\u001b[0;34m.\u001b[0m\u001b[0mas_text\u001b[0m\u001b[0;34m(\u001b[0m\u001b[0me\u001b[0m\u001b[0;34m.\u001b[0m\u001b[0mmessage\u001b[0m\u001b[0;34m)\u001b[0m\u001b[0;34m\u001b[0m\u001b[0m\n",
      "\u001b[0;32m~/anaconda2/envs/tfdeeplearning/lib/python3.5/site-packages/tensorflow/python/client/session.py\u001b[0m in \u001b[0;36m_run_fn\u001b[0;34m(session, feed_dict, fetch_list, target_list, options, run_metadata)\u001b[0m\n\u001b[1;32m   1304\u001b[0m           return tf_session.TF_Run(session, options,\n\u001b[1;32m   1305\u001b[0m                                    \u001b[0mfeed_dict\u001b[0m\u001b[0;34m,\u001b[0m \u001b[0mfetch_list\u001b[0m\u001b[0;34m,\u001b[0m \u001b[0mtarget_list\u001b[0m\u001b[0;34m,\u001b[0m\u001b[0;34m\u001b[0m\u001b[0m\n\u001b[0;32m-> 1306\u001b[0;31m                                    status, run_metadata)\n\u001b[0m\u001b[1;32m   1307\u001b[0m \u001b[0;34m\u001b[0m\u001b[0m\n\u001b[1;32m   1308\u001b[0m     \u001b[0;32mdef\u001b[0m \u001b[0m_prun_fn\u001b[0m\u001b[0;34m(\u001b[0m\u001b[0msession\u001b[0m\u001b[0;34m,\u001b[0m \u001b[0mhandle\u001b[0m\u001b[0;34m,\u001b[0m \u001b[0mfeed_dict\u001b[0m\u001b[0;34m,\u001b[0m \u001b[0mfetch_list\u001b[0m\u001b[0;34m)\u001b[0m\u001b[0;34m:\u001b[0m\u001b[0;34m\u001b[0m\u001b[0m\n",
      "\u001b[0;31mKeyboardInterrupt\u001b[0m: "
     ]
    }
   ],
   "source": [
    "with tf.Session() as sess:\n",
    "    \n",
    "    sess.run(init)\n",
    "    \n",
    "    # Recall an epoch is an entire run through the training data\n",
    "    for e in range(epochs):\n",
    "        # // indicates classic division\n",
    "        num_batches = mnist.train.num_examples // batch_size\n",
    "        \n",
    "        for i in range(num_batches):\n",
    "            \n",
    "            # Grab batch of images\n",
    "            batch = mnist.train.next_batch(batch_size)\n",
    "            \n",
    "            # Get images, reshape and rescale to pass to D\n",
    "            batch_images = batch[0].reshape((batch_size, 784))\n",
    "            batch_images = batch_images*2 - 1\n",
    "            \n",
    "            # Z (random latent noise data for Generator)\n",
    "            # -1 to 1 because of tanh activation\n",
    "            batch_z = np.random.uniform(-1, 1, size=(batch_size, 100))\n",
    "            \n",
    "            # Run optimizers, no need to save outputs, we won't use them\n",
    "            _ = sess.run(D_trainer, feed_dict={real_images: batch_images, z: batch_z})\n",
    "            _ = sess.run(G_trainer, feed_dict={z: batch_z})\n",
    "        \n",
    "            \n",
    "        print(\"Currently on Epoch {} of {} total...\".format(e+1, epochs))\n",
    "        \n",
    "        # Sample from generator as we're training for viewing afterwards\n",
    "        sample_z = np.random.uniform(-1, 1, size=(1, 100))\n",
    "        gen_sample = sess.run(generator(z ,reuse=True),feed_dict={z: sample_z})\n",
    "        \n",
    "        samples.append(gen_sample)\n",
    "        \n",
    "        _ = sess.run(complete_loss_trainer, feed_dict = {img: mnist.train.images[14].reshape(1, 784)})\n",
    "        ansz = sess.run(z1)\n",
    "        ans_z.append(ansz)\n",
    "        gen_ans = sess.run(generator(z ,reuse=True),feed_dict={z: ansz})\n",
    "        saver.save(sess, './models/50_epoch_model.ckpt')"
   ]
  },
  {
   "cell_type": "code",
   "execution_count": 50,
   "metadata": {},
   "outputs": [],
   "source": [
    "with tf.Session() as sess:\n",
    "    img_to_corr = sess.run(img_to_correct, feed_dict = {img: mnist.train.images[14].reshape(1, 784)})"
   ]
  },
  {
   "cell_type": "code",
   "execution_count": 51,
   "metadata": {},
   "outputs": [
    {
     "data": {
      "text/plain": [
       "<matplotlib.image.AxesImage at 0x7f51dae667f0>"
      ]
     },
     "execution_count": 51,
     "metadata": {},
     "output_type": "execute_result"
    },
    {
     "data": {
      "image/png": "[encoded data removed]",
      "text/plain": [
       "<matplotlib.figure.Figure at 0x7f51d9b115f8>"
      ]
     },
     "metadata": {},
     "output_type": "display_data"
    }
   ],
   "source": [
    "plt.imshow(img_to_corr,cmap='Greys')"
   ]
  },
  {
   "cell_type": "code",
   "execution_count": 52,
   "metadata": {
    "scrolled": true
   },
   "outputs": [
    {
     "data": {
      "text/plain": [
       "<matplotlib.image.AxesImage at 0x7f51daf35710>"
      ]
     },
     "execution_count": 52,
     "metadata": {},
     "output_type": "execute_result"
    },
    {
     "data": {
      "image/png": "[encoded data removed]",
      "text/plain": [
       "<matplotlib.figure.Figure at 0x7f51dd424198>"
      ]
     },
     "metadata": {},
     "output_type": "display_data"
    }
   ],
   "source": [
    "plt.imshow(gen_ans.reshape(28,28),cmap='Greys')"
   ]
  },
  {
   "cell_type": "code",
   "execution_count": 53,
   "metadata": {},
   "outputs": [
    {
     "data": {
      "text/plain": [
       "<matplotlib.image.AxesImage at 0x7f51dad88940>"
      ]
     },
     "execution_count": 53,
     "metadata": {},
     "output_type": "execute_result"
    },
    {
     "data": {
      "image/png": "[encoded data removed]",
      "text/plain": [
       "<matplotlib.figure.Figure at 0x7f51dae4d9e8>"
      ]
     },
     "metadata": {},
     "output_type": "display_data"
    }
   ],
   "source": [
    "plt.imshow(ans_z[99].reshape(10,10),cmap='Greys')"
   ]
  },
  {
   "cell_type": "code",
   "execution_count": 54,
   "metadata": {},
   "outputs": [
    {
     "data": {
      "text/plain": [
       "<matplotlib.image.AxesImage at 0x7f51daf9a0b8>"
      ]
     },
     "execution_count": 54,
     "metadata": {},
     "output_type": "execute_result"
    },
    {
     "data": {
      "image/png": "[encoded data removed]",
      "text/plain": [
       "<matplotlib.figure.Figure at 0x7f51dada34e0>"
      ]
     },
     "metadata": {},
     "output_type": "display_data"
    }
   ],
   "source": [
    "plt.imshow(ans_z[95].reshape(10,10),cmap='Greys')"
   ]
  },
  {
   "cell_type": "code",
   "execution_count": null,
   "metadata": {
    "collapsed": true
   },
   "outputs": [],
   "source": []
  }
 ],
 "metadata": {
  "kernelspec": {
   "display_name": "Python 3",
   "language": "python",
   "name": "python3"
  },
  "language_info": {
   "codemirror_mode": {
    "name": "ipython",
    "version": 3
   },
   "file_extension": ".py",
   "mimetype": "text/x-python",
   "name": "python",
   "nbconvert_exporter": "python",
   "pygments_lexer": "ipython3",
   "version": "3.5.4"
  }
 },
 "nbformat": 4,
 "nbformat_minor": 2
}
